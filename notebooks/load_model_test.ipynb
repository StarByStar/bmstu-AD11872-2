{
 "cells": [
  {
   "cell_type": "code",
   "execution_count": 1,
   "id": "8a90b534-1689-4b58-8eab-0c637e87aa6e",
   "metadata": {},
   "outputs": [],
   "source": [
    "import tensorflow as tf\n",
    "from tensorflow import keras"
   ]
  },
  {
   "cell_type": "code",
   "execution_count": 2,
   "id": "455402c3-1d73-4d2d-88d5-b44fa9945a77",
   "metadata": {},
   "outputs": [],
   "source": [
    "model = keras.models.load_model('../models/model')\n",
    "model_lstm = keras.models.load_model('../models/model_lstm2')"
   ]
  },
  {
   "cell_type": "code",
   "execution_count": 3,
   "id": "0a3d5852-2b34-467a-a189-cc05f4609a06",
   "metadata": {},
   "outputs": [],
   "source": [
    "days = 1500\n",
    "test_data = [i for i in range(days)]"
   ]
  },
  {
   "cell_type": "code",
   "execution_count": 4,
   "id": "bacf48cf-0e4b-49de-96af-a41b953d5bc0",
   "metadata": {},
   "outputs": [
    {
     "name": "stdout",
     "output_type": "stream",
     "text": [
      "47/47 [==============================] - 0s 783us/step\n"
     ]
    }
   ],
   "source": [
    "y_model_predict = model.predict(test_data)"
   ]
  },
  {
   "cell_type": "code",
   "execution_count": 6,
   "id": "f00d170c-8431-4eba-8d12-f3571624052a",
   "metadata": {},
   "outputs": [
    {
     "data": {
      "text/plain": [
       "array([[ 0.48362494],\n",
       "       [ 0.3033152 ],\n",
       "       [ 2.297306  ],\n",
       "       ...,\n",
       "       [-0.4456543 ],\n",
       "       [-0.4456543 ],\n",
       "       [-0.4456546 ]], dtype=float32)"
      ]
     },
     "execution_count": 6,
     "metadata": {},
     "output_type": "execute_result"
    }
   ],
   "source": [
    "y_model_predict"
   ]
  },
  {
   "cell_type": "code",
   "execution_count": null,
   "id": "99e7ea29-9867-45d3-916d-d83323386050",
   "metadata": {},
   "outputs": [],
   "source": []
  }
 ],
 "metadata": {
  "kernelspec": {
   "display_name": "Python 3 (ipykernel)",
   "language": "python",
   "name": "python3"
  },
  "language_info": {
   "codemirror_mode": {
    "name": "ipython",
    "version": 3
   },
   "file_extension": ".py",
   "mimetype": "text/x-python",
   "name": "python",
   "nbconvert_exporter": "python",
   "pygments_lexer": "ipython3",
   "version": "3.9.15"
  }
 },
 "nbformat": 4,
 "nbformat_minor": 5
}
